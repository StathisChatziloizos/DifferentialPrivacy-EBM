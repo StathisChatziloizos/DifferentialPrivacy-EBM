{
 "cells": [
  {
   "cell_type": "markdown",
   "metadata": {},
   "source": [
    "## Load Datasets"
   ]
  },
  {
   "cell_type": "code",
   "execution_count": null,
   "metadata": {},
   "outputs": [],
   "source": [
    "import numpy as np\n",
    "import pandas as pd\n",
    "from sklearn.datasets import load_breast_cancer\n",
    "import warnings\n",
    "warnings.filterwarnings(\"ignore\")\n",
    "\n",
    "def load_breast_data():\n",
    "    breast = load_breast_cancer()\n",
    "    feature_names = list(breast.feature_names)\n",
    "    X, y = pd.DataFrame(breast.data, columns=feature_names), breast.target\n",
    "    dataset = {\n",
    "        'problem': 'classification',\n",
    "        'full': {\n",
    "            'X': X,\n",
    "            'y': y,\n",
    "        },\n",
    "    }\n",
    "    return dataset\n",
    "\n",
    "\n",
    "def load_adult_data():\n",
    "    df = pd.read_csv(\n",
    "        \"https://archive.ics.uci.edu/ml/machine-learning-databases/adult/adult.data\",\n",
    "        header=None)\n",
    "    df.columns = [\n",
    "        \"Age\", \"WorkClass\", \"fnlwgt\", \"Education\", \"EducationNum\",\n",
    "        \"MaritalStatus\", \"Occupation\", \"Relationship\", \"Race\", \"Gender\",\n",
    "        \"CapitalGain\", \"CapitalLoss\", \"HoursPerWeek\", \"NativeCountry\", \"Income\"\n",
    "    ]\n",
    "    # If income column is < 50K, set to 0, else set to 1\n",
    "    df['Income'] = df['Income'].apply(lambda x: 0 if x == \" <=50K\" else 1)\n",
    "    train_cols = df.columns[0:-1]\n",
    "    label = df.columns[-1]\n",
    "    X_df = df[train_cols]\n",
    "    y_df = df[label]\n",
    "\n",
    "    dataset = {\n",
    "        'problem': 'classification',\n",
    "        'full': {\n",
    "            'X': X_df,\n",
    "            'y': y_df,\n",
    "        },\n",
    "    }\n",
    "\n",
    "    return dataset\n",
    "\n",
    "def load_heart_data():\n",
    "    # https://www.kaggle.com/ronitf/heart-disease-uci\n",
    "    # df = pd.read_csv(r'C:\\develop\\data\\heart-disease-uci\\heart.csv')\n",
    "    df = pd.read_csv(f\"datasets/heart.csv\")\n",
    "    train_cols = df.columns[0:-1]\n",
    "    label = df.columns[-1]\n",
    "    X_df = df[train_cols]\n",
    "    y_df = df[label]\n",
    "    dataset = {\n",
    "        'problem': 'classification',\n",
    "        'full': {\n",
    "            'X': X_df,\n",
    "            'y': y_df,\n",
    "        },\n",
    "    }\n",
    "    \n",
    "    return dataset\n",
    "\n",
    "\n",
    "def load_credit_data():\n",
    "    # https://www.kaggle.com/mlg-ulb/creditcardfraud\n",
    "    # df = pd.read_csv(r'C:\\develop\\data\\creditcardfraud\\creditcard.csv')\n",
    "    df = pd.read_csv(f\"datasets/creditcard.csv\")\n",
    "    train_cols = df.columns[0:-1]\n",
    "    label = df.columns[-1]\n",
    "    X_df = df[train_cols]\n",
    "    y_df = df[label]\n",
    "    dataset = {\n",
    "        'problem': 'classification',\n",
    "        'full': {\n",
    "            'X': X_df,\n",
    "            'y': y_df,\n",
    "        },\n",
    "    }\n",
    "    \n",
    "    return dataset\n",
    "\n",
    "\n",
    "def load_telco_churn_data():\n",
    "    # https://www.kaggle.com/blastchar/telco-customer-churn/downloads/WA_Fn-UseC_-Telco-Customer-Churn.csv/1\n",
    "    # df = pd.read_csv(r'C:\\develop\\data\\telco-customer-churn\\WA_Fn-UseC_-Telco-Customer-Churn.csv')\n",
    "    df = pd.read_csv(f\"datasets/WA_Fn-UseC_-Telco-Customer-Churn.csv\")\n",
    "    train_cols = df.columns[1:-1] # First column is an ID\n",
    "    label = df.columns[-1]\n",
    "    X_df = df[train_cols]\n",
    "    y_df = df[label] # 'Yes, No'\n",
    "    y_df = y_df.apply(lambda x: 1 if x == 'Yes' else 0)\n",
    "    dataset = {\n",
    "        'problem': 'classification',\n",
    "        'full': {\n",
    "            'X': X_df,\n",
    "            'y': y_df,\n",
    "        },\n",
    "    }\n",
    "    \n",
    "    return dataset"
   ]
  },
  {
   "cell_type": "markdown",
   "metadata": {},
   "source": [
    "## Data Stats"
   ]
  },
  {
   "cell_type": "code",
   "execution_count": 37,
   "metadata": {},
   "outputs": [
    {
     "name": "stdout",
     "output_type": "stream",
     "text": [
      "        Dataset    Domain       N   K  Task   %Pos\n",
      "0  Adult Income   Finance   32561  14  Clas  24.1%\n",
      "1   Telco Churn  Business    7043  19  Clas  26.5%\n",
      "2        Credit   Finance  284807  30  Clas   0.2%\n"
     ]
    }
   ],
   "source": [
    "def dataset_stats(dataset, dataset_name, domain, task):\n",
    "    X = dataset['full']['X']\n",
    "    y = dataset['full']['y']\n",
    "    N = len(X)\n",
    "    K = X.shape[1]\n",
    "    # Ensure y is numeric (0 and 1) so that .mean() gives fraction of positives.\n",
    "    pos_pct = y.mean() * 100  \n",
    "    return {\n",
    "         \"Dataset\": dataset_name,\n",
    "         \"Domain\": domain,\n",
    "         \"N\": N,\n",
    "         \"K\": K,\n",
    "         \"Task\": task,\n",
    "         \"%Pos\": f\"{pos_pct:.1f}%\"\n",
    "    }\n",
    "\n",
    "# Load datasets\n",
    "adult_data = load_adult_data()\n",
    "telco_churn_data = load_telco_churn_data()\n",
    "credit_data = load_credit_data()\n",
    "\n",
    "\n",
    "# Compute statistics for each dataset.\n",
    "stats_list = []\n",
    "stats_list.append(dataset_stats(adult_data, \"Adult Income\", \"Finance\", \"Clas\"))\n",
    "stats_list.append(dataset_stats(telco_churn_data, \"Telco Churn\", \"Business\", \"Clas\"))\n",
    "stats_list.append(dataset_stats(credit_data, \"Credit\", \"Finance\", \"Clas\"))\n",
    "\n",
    "stats_df = pd.DataFrame(stats_list)\n",
    "print(stats_df)\n"
   ]
  },
  {
   "cell_type": "markdown",
   "metadata": {},
   "source": [
    "## Benchmark Models"
   ]
  },
  {
   "cell_type": "code",
   "execution_count": 9,
   "metadata": {},
   "outputs": [],
   "source": [
    "from sklearn.preprocessing import OneHotEncoder, FunctionTransformer, StandardScaler\n",
    "from sklearn.compose import ColumnTransformer\n",
    "from sklearn.pipeline import Pipeline\n",
    "from sklearn.model_selection import StratifiedShuffleSplit, cross_validate\n",
    "\n",
    "from sklearn.ensemble import RandomForestClassifier, GradientBoostingClassifier\n",
    "from xgboost import XGBClassifier\n",
    "\n",
    "from sklearn.linear_model import SGDClassifier, LogisticRegression\n",
    "\n",
    "from interpret.glassbox import ExplainableBoostingClassifier, APLRClassifier\n",
    "\n",
    "\n",
    "def format_n(x):\n",
    "    return \"{0:.3f}\".format(x)\n",
    "\n",
    "def process_model(clf, name, X, y, n_splits=3):\n",
    "    # Evaluate model\n",
    "    ss = StratifiedShuffleSplit(n_splits=n_splits, test_size=0.25, random_state=1337)\n",
    "    scores = cross_validate(\n",
    "        clf, X, y, scoring='roc_auc', cv=ss,\n",
    "        n_jobs=None, return_estimator=True\n",
    "    )\n",
    "\n",
    "    record = dict()\n",
    "    record['model_name'] = name\n",
    "    record['fit_time_mean'] = format_n(np.mean(scores['fit_time']))\n",
    "    record['fit_time_std'] = format_n(np.std(scores['fit_time']))\n",
    "    record['test_score_mean'] = format_n(np.mean(scores['test_score']))\n",
    "    record['test_score_std'] = format_n(np.std(scores['test_score']))\n",
    "\n",
    "    return record\n",
    "\n",
    "\n",
    "\n",
    "def benchmark_models(dataset_name, X, y, ct=None, n_splits=3, random_state=1337):\n",
    "    if ct is None:\n",
    "        is_cat = np.array([dt.kind == 'O' for dt in X.dtypes])\n",
    "        cat_cols = X.columns.values[is_cat]\n",
    "        num_cols = X.columns.values[~is_cat]\n",
    "\n",
    "        cat_ohe_step = ('ohe', OneHotEncoder(sparse_output=False,\n",
    "                                             handle_unknown='ignore'))\n",
    "\n",
    "        cat_pipe = Pipeline([cat_ohe_step])\n",
    "        num_pipe = Pipeline([('identity', FunctionTransformer())])\n",
    "        transformers = [\n",
    "            ('cat', cat_pipe, cat_cols),\n",
    "            ('num', num_pipe, num_cols)\n",
    "        ]\n",
    "        ct = ColumnTransformer(transformers=transformers)\n",
    "\n",
    "    records = []\n",
    "\n",
    "    summary_record = {}\n",
    "    summary_record['dataset_name'] = dataset_name\n",
    "    print()\n",
    "    print('-' * 78)\n",
    "    print(dataset_name)\n",
    "    print('-' * 78)\n",
    "    print(summary_record)\n",
    "    print()\n",
    "\n",
    "    pipe = Pipeline([\n",
    "        ('ct', ct),\n",
    "        ('std', StandardScaler()),\n",
    "        ('lr', LogisticRegression(random_state=random_state)),\n",
    "    ])\n",
    "    record = process_model(pipe, 'lr', X, y, n_splits=n_splits)\n",
    "    print(record)\n",
    "    record.update(summary_record)\n",
    "    records.append(record)\n",
    "\n",
    "    pipe = Pipeline([\n",
    "        ('ct', ct),\n",
    "        # n_estimators updated from 10 to 100 due to sci-kit defaults changing in future versions\n",
    "        ('rf-100', RandomForestClassifier(n_estimators=100, n_jobs=-1, random_state=random_state)),\n",
    "    ])\n",
    "    record = process_model(pipe, 'rf-100', X, y, n_splits=n_splits)\n",
    "    print(record)\n",
    "    record.update(summary_record)\n",
    "    records.append(record)\n",
    "    \n",
    "    pipe = Pipeline([\n",
    "        ('ct', ct),\n",
    "        ('xgb', XGBClassifier(random_state=random_state, eval_metric='logloss')),\n",
    "    ])\n",
    "    record = process_model(pipe, 'xgb', X, y, n_splits=n_splits)\n",
    "    print(record)\n",
    "    record.update(summary_record)\n",
    "    records.append(record)\n",
    "\n",
    "    pipe = Pipeline([\n",
    "        ('ct', ct),\n",
    "        ('aplr', APLRClassifier(random_state=random_state, num_first_steps_with_linear_effects_only=2000)),\n",
    "    ])\n",
    "    record = process_model(pipe, 'aplr', X, y, n_splits=n_splits)\n",
    "    print(record)\n",
    "    record.update(summary_record)\n",
    "    records.append(record)\n",
    "\n",
    "    # No pipeline needed due to EBM handling string datatypes\n",
    "    ebm_inter = ExplainableBoostingClassifier(n_jobs=-1, random_state=random_state)\n",
    "    record = process_model(ebm_inter, 'ebm', X, y, n_splits=n_splits)\n",
    "    print(record)\n",
    "    record.update(summary_record)\n",
    "    records.append(record)\n",
    "\n",
    "    return records"
   ]
  },
  {
   "cell_type": "code",
   "execution_count": 3,
   "metadata": {},
   "outputs": [],
   "source": [
    "results = []\n",
    "n_splits = 3"
   ]
  },
  {
   "cell_type": "markdown",
   "metadata": {},
   "source": [
    "### Breast Cancer Dataset"
   ]
  },
  {
   "cell_type": "code",
   "execution_count": 10,
   "metadata": {},
   "outputs": [
    {
     "name": "stdout",
     "output_type": "stream",
     "text": [
      "\n",
      "------------------------------------------------------------------------------\n",
      "breast-cancer\n",
      "------------------------------------------------------------------------------\n",
      "{'dataset_name': 'breast-cancer'}\n",
      "\n",
      "{'model_name': 'lr', 'fit_time_mean': '0.020', 'fit_time_std': '0.007', 'test_score_mean': '0.994', 'test_score_std': '0.006'}\n",
      "{'model_name': 'rf-100', 'fit_time_mean': '0.237', 'fit_time_std': '0.038', 'test_score_mean': '0.992', 'test_score_std': '0.009'}\n",
      "{'model_name': 'xgb', 'fit_time_mean': '0.284', 'fit_time_std': '0.316', 'test_score_mean': '0.992', 'test_score_std': '0.010'}\n",
      "{'model_name': 'aplr', 'fit_time_mean': '14.560', 'fit_time_std': '0.914', 'test_score_mean': '0.993', 'test_score_std': '0.006'}\n",
      "{'model_name': 'ebm', 'fit_time_mean': '174.740', 'fit_time_std': '104.506', 'test_score_mean': '0.994', 'test_score_std': '0.009'}\n"
     ]
    }
   ],
   "source": [
    "dataset = load_breast_data()\n",
    "result = benchmark_models('breast-cancer', dataset['full']['X'], dataset['full']['y'], n_splits=n_splits)\n",
    "results.append(result)"
   ]
  },
  {
   "cell_type": "markdown",
   "metadata": {},
   "source": [
    "### Adult Dataset"
   ]
  },
  {
   "cell_type": "code",
   "execution_count": 18,
   "metadata": {},
   "outputs": [
    {
     "name": "stdout",
     "output_type": "stream",
     "text": [
      "\n",
      "------------------------------------------------------------------------------\n",
      "adult\n",
      "------------------------------------------------------------------------------\n",
      "{'dataset_name': 'adult'}\n",
      "\n",
      "{'model_name': 'lr', 'fit_time_mean': '0.280', 'fit_time_std': '0.027', 'test_score_mean': '0.907', 'test_score_std': '0.003'}\n",
      "{'model_name': 'rf-100', 'fit_time_mean': '0.976', 'fit_time_std': '0.014', 'test_score_mean': '0.903', 'test_score_std': '0.002'}\n",
      "{'model_name': 'xgb', 'fit_time_mean': '0.464', 'fit_time_std': '0.082', 'test_score_mean': '0.928', 'test_score_std': '0.001'}\n",
      "{'model_name': 'aplr', 'fit_time_mean': '323.301', 'fit_time_std': '28.697', 'test_score_mean': '0.927', 'test_score_std': '0.002'}\n",
      "{'model_name': 'ebm', 'fit_time_mean': '19.054', 'fit_time_std': '1.447', 'test_score_mean': '0.929', 'test_score_std': '0.002'}\n"
     ]
    }
   ],
   "source": [
    "dataset = load_adult_data()\n",
    "result = benchmark_models('adult', dataset['full']['X'], dataset['full']['y'], n_splits=n_splits)\n",
    "results.append(result)"
   ]
  },
  {
   "cell_type": "markdown",
   "metadata": {},
   "source": [
    "### Credit Card Dataset"
   ]
  },
  {
   "cell_type": "code",
   "execution_count": 20,
   "metadata": {},
   "outputs": [
    {
     "name": "stdout",
     "output_type": "stream",
     "text": [
      "\n",
      "------------------------------------------------------------------------------\n",
      "credit-fraud\n",
      "------------------------------------------------------------------------------\n",
      "{'dataset_name': 'credit-fraud'}\n",
      "\n",
      "{'model_name': 'lr', 'fit_time_mean': '0.622', 'fit_time_std': '0.063', 'test_score_mean': '0.980', 'test_score_std': '0.003'}\n",
      "{'model_name': 'rf-100', 'fit_time_mean': '54.921', 'fit_time_std': '2.337', 'test_score_mean': '0.950', 'test_score_std': '0.007'}\n",
      "{'model_name': 'xgb', 'fit_time_mean': '1.822', 'fit_time_std': '0.028', 'test_score_mean': '0.983', 'test_score_std': '0.002'}\n",
      "{'model_name': 'aplr', 'fit_time_mean': '2250.017', 'fit_time_std': '257.963', 'test_score_mean': '0.979', 'test_score_std': '0.007'}\n",
      "{'model_name': 'ebm', 'fit_time_mean': '480.415', 'fit_time_std': '489.951', 'test_score_mean': '0.982', 'test_score_std': '0.005'}\n"
     ]
    }
   ],
   "source": [
    "dataset = load_credit_data()\n",
    "result = benchmark_models('credit-fraud', dataset['full']['X'], dataset['full']['y'], n_splits=n_splits)\n",
    "results.append(result)"
   ]
  },
  {
   "cell_type": "markdown",
   "metadata": {},
   "source": [
    "### Telco Churn Dataset"
   ]
  },
  {
   "cell_type": "code",
   "execution_count": 17,
   "metadata": {},
   "outputs": [
    {
     "name": "stdout",
     "output_type": "stream",
     "text": [
      "\n",
      "------------------------------------------------------------------------------\n",
      "telco-churn\n",
      "------------------------------------------------------------------------------\n",
      "{'dataset_name': 'telco-churn'}\n",
      "\n",
      "{'model_name': 'lr', 'fit_time_mean': '1.976', 'fit_time_std': '0.091', 'test_score_mean': '0.808', 'test_score_std': '0.014'}\n",
      "{'model_name': 'rf-100', 'fit_time_mean': '3.332', 'fit_time_std': '0.272', 'test_score_mean': '0.824', 'test_score_std': '0.002'}\n",
      "{'model_name': 'xgb', 'fit_time_mean': '3.421', 'fit_time_std': '0.695', 'test_score_mean': '0.822', 'test_score_std': '0.004'}\n",
      "{'model_name': 'aplr', 'fit_time_mean': '38.068', 'fit_time_std': '3.964', 'test_score_mean': '0.849', 'test_score_std': '0.003'}\n",
      "{'model_name': 'ebm', 'fit_time_mean': '492.665', 'fit_time_std': '74.669', 'test_score_mean': '0.853', 'test_score_std': '0.004'}\n"
     ]
    }
   ],
   "source": [
    "dataset = load_telco_churn_data()\n",
    "result = benchmark_models('telco-churn', dataset['full']['X'], dataset['full']['y'], n_splits=3)\n",
    "results.append(result)"
   ]
  },
  {
   "cell_type": "code",
   "execution_count": 21,
   "metadata": {},
   "outputs": [],
   "source": [
    "records = [item for result in results for item in result]\n",
    "record_df = pd.DataFrame.from_records(records)[['dataset_name', 'model_name', 'test_score_mean', 'test_score_std']]\n",
    "record_df.to_csv('ebm-perf-classification-overnight.csv')"
   ]
  },
  {
   "cell_type": "markdown",
   "metadata": {},
   "source": [
    "### DP-EBM Model (GDP and Classic) for different EBM Values for the Adult Dataset"
   ]
  },
  {
   "cell_type": "code",
   "execution_count": null,
   "metadata": {},
   "outputs": [
    {
     "name": "stdout",
     "output_type": "stream",
     "text": [
      "{'model_name': 'dp-ebm-epsilon-0.5-composition-classic', 'fit_time_mean': '5.993', 'fit_time_std': '0.212', 'test_score_mean': '0.826', 'test_score_std': '0.003'}\n",
      "{'model_name': 'dp-ebm-epsilon-0.5-composition-gdp', 'fit_time_mean': '6.229', 'fit_time_std': '0.360', 'test_score_mean': '0.871', 'test_score_std': '0.003'}\n",
      "{'model_name': 'dp-ebm-epsilon-0.5-composition-gdp', 'fit_time_mean': '5.641', 'fit_time_std': '0.243', 'test_score_mean': '0.871', 'test_score_std': '0.003'}\n",
      "{'model_name': 'dp-ebm-epsilon-0.1-composition-classic', 'fit_time_mean': '5.455', 'fit_time_std': '0.048', 'test_score_mean': '0.774', 'test_score_std': '0.002'}\n",
      "{'model_name': 'dp-ebm-epsilon-0.1-composition-gdp', 'fit_time_mean': '5.634', 'fit_time_std': '0.374', 'test_score_mean': '0.814', 'test_score_std': '0.004'}\n",
      "{'model_name': 'dp-ebm-epsilon-0.1-composition-gdp', 'fit_time_mean': '5.425', 'fit_time_std': '0.017', 'test_score_mean': '0.814', 'test_score_std': '0.004'}\n",
      "{'model_name': 'dp-ebm-epsilon-2.0-composition-classic', 'fit_time_mean': '5.709', 'fit_time_std': '0.336', 'test_score_mean': '0.877', 'test_score_std': '0.005'}\n",
      "{'model_name': 'dp-ebm-epsilon-2.0-composition-gdp', 'fit_time_mean': '5.501', 'fit_time_std': '0.062', 'test_score_mean': '0.883', 'test_score_std': '0.004'}\n",
      "{'model_name': 'dp-ebm-epsilon-2.0-composition-gdp', 'fit_time_mean': '5.427', 'fit_time_std': '0.097', 'test_score_mean': '0.883', 'test_score_std': '0.004'}\n",
      "{'model_name': 'dp-ebm-epsilon-4.0-composition-classic', 'fit_time_mean': '5.624', 'fit_time_std': '0.264', 'test_score_mean': '0.875', 'test_score_std': '0.004'}\n",
      "{'model_name': 'dp-ebm-epsilon-4.0-composition-gdp', 'fit_time_mean': '5.721', 'fit_time_std': '0.270', 'test_score_mean': '0.888', 'test_score_std': '0.004'}\n",
      "{'model_name': 'dp-ebm-epsilon-4.0-composition-gdp', 'fit_time_mean': '5.299', 'fit_time_std': '0.011', 'test_score_mean': '0.888', 'test_score_std': '0.004'}\n",
      "{'model_name': 'dp-ebm-epsilon-8.0-composition-classic', 'fit_time_mean': '5.818', 'fit_time_std': '0.186', 'test_score_mean': '0.887', 'test_score_std': '0.004'}\n",
      "{'model_name': 'dp-ebm-epsilon-8.0-composition-gdp', 'fit_time_mean': '5.806', 'fit_time_std': '0.311', 'test_score_mean': '0.893', 'test_score_std': '0.005'}\n",
      "{'model_name': 'dp-ebm-epsilon-8.0-composition-gdp', 'fit_time_mean': '5.933', 'fit_time_std': '0.103', 'test_score_mean': '0.893', 'test_score_std': '0.005'}\n"
     ]
    }
   ],
   "source": [
    "from interpret.privacy import DPExplainableBoostingClassifier\n",
    "\n",
    "# Run DP-EBM with different epsilon values for the adult dataset\n",
    "epsilon_values = [0.5, 0.1, 2.0, 4.0, 8.0]\n",
    "compositions = ['classic', 'gdp']\n",
    "results = []\n",
    "\n",
    "dataset = load_adult_data()\n",
    "X = dataset['full']['X']\n",
    "y = dataset['full']['y']\n",
    "is_cat = np.array([dt.kind == 'O' for dt in X.dtypes])\n",
    "cat_cols = X.columns.values[is_cat]\n",
    "num_cols = X.columns.values[~is_cat]\n",
    "\n",
    "cat_ohe_step = ('ohe', OneHotEncoder(sparse_output=False, handle_unknown='ignore'))\n",
    "cat_pipe = Pipeline([cat_ohe_step])\n",
    "num_pipe = Pipeline([('identity', FunctionTransformer())])\n",
    "\n",
    "transformers = [\n",
    "    ('cat', cat_pipe, cat_cols),\n",
    "    ('num', num_pipe, num_cols)\n",
    "]\n",
    "ct = ColumnTransformer(transformers=transformers)\n",
    "\n",
    "for epsilon in epsilon_values:\n",
    "    for composition in compositions:\n",
    "        pipe = Pipeline([\n",
    "            ('ct', ct),\n",
    "            ('std', StandardScaler()),\n",
    "            ('ebm', DPExplainableBoostingClassifier(epsilon=epsilon, composition=composition, n_jobs=-1, random_state=1337)),\n",
    "        ])\n",
    "        record = process_model(pipe, f'dp-ebm-epsilon-{epsilon}-composition-{composition}', X, y, n_splits=3)\n",
    "        results.append(record)\n",
    "        print(record)\n",
    "\n",
    "    record = process_model(pipe, f'dp-ebm-epsilon-{epsilon}-composition-{composition}', X, y, n_splits=3)\n",
    "    results.append(record)\n",
    "    print(record)\n",
    "\n",
    "record_df = pd.DataFrame.from_records(results)[['model_name', 'test_score_mean', 'test_score_std']]\n",
    "record_df.to_csv('dp-ebm-perf-classification.csv')\n"
   ]
  }
 ],
 "metadata": {
  "kernelspec": {
   "display_name": "DSLab",
   "language": "python",
   "name": "python3"
  },
  "language_info": {
   "codemirror_mode": {
    "name": "ipython",
    "version": 3
   },
   "file_extension": ".py",
   "mimetype": "text/x-python",
   "name": "python",
   "nbconvert_exporter": "python",
   "pygments_lexer": "ipython3",
   "version": "3.11.8"
  }
 },
 "nbformat": 4,
 "nbformat_minor": 2
}
